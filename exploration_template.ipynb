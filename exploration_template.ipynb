{
 "cells": [
  {
   "cell_type": "markdown",
   "id": "0a8b5f83",
   "metadata": {},
   "source": [
    "# Data Expo 2009 - Airline on-time performance Analysis\n",
    "By Abdullah Almuzaini\n",
    "\n",
    "## Table of Contents\n",
    "- [Introduction](#intro)\n",
    "- [Part I - Data Wrngling](#wrnagling)\n",
    "- [Part II - Univariate Data Exploration](#unidata)\n",
    "- [Part III - Bivariate Data Exploration](#bivData)\n",
    "- [Part IV - Multivariate Data Exploration](#multivData)\n",
    "\n",
    "\n",
    " <a id='intro'>   </a>\n",
    "## Introduction\n",
    "\n",
    "<br><br>\n",
    "<a id='wrnagling'>   </a>\n",
    "## Part I - Data Wrngling\n"
   ]
  },
  {
   "cell_type": "code",
   "execution_count": 1,
   "id": "fa6f7867",
   "metadata": {},
   "outputs": [],
   "source": [
    "# The first step is to import all needed libraryies\n",
    "# This cell is devote specificlly for importing libraries\n",
    "\n",
    "import pandas as pd\n",
    "import numpy as np\n",
    "import matplotlib.pyplot as plt\n",
    "import seaborn as sns\n",
    "\n",
    "%matplotlib inline\n",
    "\n"
   ]
  },
  {
   "cell_type": "code",
   "execution_count": null,
   "id": "895b135a",
   "metadata": {},
   "outputs": [],
   "source": []
  },
  {
   "cell_type": "markdown",
   "id": "1ea0633c",
   "metadata": {},
   "source": [
    "<a id='unidata'>   </a>\n",
    "## Part II - Univariate Data Exploration"
   ]
  },
  {
   "cell_type": "markdown",
   "id": "50448d40",
   "metadata": {},
   "source": [
    "<a id='bivData'>   </a>\n",
    "## Part III - Bivariate Data Exploration"
   ]
  },
  {
   "cell_type": "markdown",
   "id": "562ec72e",
   "metadata": {},
   "source": [
    "<a id='multivData'>   </a>\n",
    "## Part IV - Multivariate Data Exploration"
   ]
  }
 ],
 "metadata": {
  "hide_input": false,
  "kernelspec": {
   "display_name": "Python 3",
   "language": "python",
   "name": "python3"
  },
  "language_info": {
   "codemirror_mode": {
    "name": "ipython",
    "version": 3
   },
   "file_extension": ".py",
   "mimetype": "text/x-python",
   "name": "python",
   "nbconvert_exporter": "python",
   "pygments_lexer": "ipython3",
   "version": "3.8.8"
  }
 },
 "nbformat": 4,
 "nbformat_minor": 5
}
