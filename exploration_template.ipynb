{
 "cells": [
  {
   "cell_type": "markdown",
   "id": "699f31eb",
   "metadata": {},
   "source": [
    "# Data Expo 2009 - Airline on-time performance Analysis\n",
    "By Abdullah Almuzaini\n",
    "\n",
    "## Table of Contents\n",
    "- [Introduction](#intro)\n",
    "- [Part I - Data Wrngling](#wrnagling)\n",
    "- [Part II - Univariate Data Exploration](#unidata)\n",
    "- [Part III - Bivariate Data Exploration](#bivData)\n",
    "- [Part IV - Multivariate Data Exploration](#multivData)\n",
    "\n",
    "\n",
    " <a id='intro'>   </a>\n",
    "## Introduction\n",
    "\n",
    "<br><br>\n",
    "<a id='wrnagling'>   </a>\n",
    "## Part I - Data Wrngling\n"
   ]
  },
  {
   "cell_type": "code",
   "execution_count": 1,
   "id": "8004a1f9",
   "metadata": {},
   "outputs": [],
   "source": [
    "# The first step is to import all needed libraryies\n",
    "# This cell is devote specificlly for importing libraries\n",
    "\n",
    "import pandas as pd\n",
    "import numpy as np\n",
    "import matplotlib.pyplot as plt\n",
    "import seaborn as sns\n",
    "\n",
    "%matplotlib inline\n",
    "\n"
   ]
  },
  {
   "cell_type": "markdown",
   "id": "e089392a",
   "metadata": {},
   "source": [
    "<p style=\"font-size:18px\"> The original dataset folder contains a dataset about flights for each year since 1987 to 2008. However, for this project, I will only use data from 2005 to 2008 due to the magnificent size of the datasets. There will be a sufficient amount of data to use in the project.\n",
    "    </p>\n",
    "<br> <br>\n",
    "<p style=\"font-size:18px\">In the follwing cell, I will download four dataset files into the notebook </p>"
   ]
  },
  {
   "cell_type": "code",
   "execution_count": 2,
   "id": "94fe6c74",
   "metadata": {},
   "outputs": [],
   "source": [
    "_2005_df = pd.read_csv('dataset/2005.csv')\n",
    "_2006_df = pd.read_csv('dataset/2006.csv')\n",
    "_2007_df = pd.read_csv('dataset/2007.csv')\n",
    "_2008_df = pd.read_csv('dataset/2008.csv')"
   ]
  },
  {
   "cell_type": "code",
   "execution_count": 4,
   "id": "724cb444",
   "metadata": {},
   "outputs": [],
   "source": [
    "dfs = [_2005_df,_2006_df,_2007_df,_2008_df]\n",
    "flight_df = pd.concat(dfs)"
   ]
  },
  {
   "cell_type": "code",
   "execution_count": 30,
   "id": "51ce35de",
   "metadata": {},
   "outputs": [
    {
     "data": {
      "text/plain": [
       "(28745461, 29)"
      ]
     },
     "execution_count": 30,
     "metadata": {},
     "output_type": "execute_result"
    }
   ],
   "source": [
    "flight_df.shape"
   ]
  },
  {
   "cell_type": "code",
   "execution_count": 32,
   "id": "bf3054c9",
   "metadata": {},
   "outputs": [
    {
     "data": {
      "text/html": [
       "<div>\n",
       "<style scoped>\n",
       "    .dataframe tbody tr th:only-of-type {\n",
       "        vertical-align: middle;\n",
       "    }\n",
       "\n",
       "    .dataframe tbody tr th {\n",
       "        vertical-align: top;\n",
       "    }\n",
       "\n",
       "    .dataframe thead th {\n",
       "        text-align: right;\n",
       "    }\n",
       "</style>\n",
       "<table border=\"1\" class=\"dataframe\">\n",
       "  <thead>\n",
       "    <tr style=\"text-align: right;\">\n",
       "      <th></th>\n",
       "      <th>Year</th>\n",
       "      <th>Month</th>\n",
       "      <th>DayofMonth</th>\n",
       "      <th>DayOfWeek</th>\n",
       "      <th>DepTime</th>\n",
       "      <th>CRSDepTime</th>\n",
       "      <th>ArrTime</th>\n",
       "      <th>CRSArrTime</th>\n",
       "      <th>UniqueCarrier</th>\n",
       "      <th>FlightNum</th>\n",
       "      <th>...</th>\n",
       "      <th>TaxiIn</th>\n",
       "      <th>TaxiOut</th>\n",
       "      <th>Cancelled</th>\n",
       "      <th>CancellationCode</th>\n",
       "      <th>Diverted</th>\n",
       "      <th>CarrierDelay</th>\n",
       "      <th>WeatherDelay</th>\n",
       "      <th>NASDelay</th>\n",
       "      <th>SecurityDelay</th>\n",
       "      <th>LateAircraftDelay</th>\n",
       "    </tr>\n",
       "  </thead>\n",
       "  <tbody>\n",
       "    <tr>\n",
       "      <th>0</th>\n",
       "      <td>2005</td>\n",
       "      <td>1</td>\n",
       "      <td>28</td>\n",
       "      <td>5</td>\n",
       "      <td>1603.0</td>\n",
       "      <td>1605</td>\n",
       "      <td>1741.0</td>\n",
       "      <td>1759</td>\n",
       "      <td>UA</td>\n",
       "      <td>541</td>\n",
       "      <td>...</td>\n",
       "      <td>4.0</td>\n",
       "      <td>23.0</td>\n",
       "      <td>0</td>\n",
       "      <td>NaN</td>\n",
       "      <td>0</td>\n",
       "      <td>0.0</td>\n",
       "      <td>0.0</td>\n",
       "      <td>0.0</td>\n",
       "      <td>0.0</td>\n",
       "      <td>0.0</td>\n",
       "    </tr>\n",
       "    <tr>\n",
       "      <th>1</th>\n",
       "      <td>2005</td>\n",
       "      <td>1</td>\n",
       "      <td>29</td>\n",
       "      <td>6</td>\n",
       "      <td>1559.0</td>\n",
       "      <td>1605</td>\n",
       "      <td>1736.0</td>\n",
       "      <td>1759</td>\n",
       "      <td>UA</td>\n",
       "      <td>541</td>\n",
       "      <td>...</td>\n",
       "      <td>6.0</td>\n",
       "      <td>15.0</td>\n",
       "      <td>0</td>\n",
       "      <td>NaN</td>\n",
       "      <td>0</td>\n",
       "      <td>0.0</td>\n",
       "      <td>0.0</td>\n",
       "      <td>0.0</td>\n",
       "      <td>0.0</td>\n",
       "      <td>0.0</td>\n",
       "    </tr>\n",
       "    <tr>\n",
       "      <th>2</th>\n",
       "      <td>2005</td>\n",
       "      <td>1</td>\n",
       "      <td>30</td>\n",
       "      <td>7</td>\n",
       "      <td>1603.0</td>\n",
       "      <td>1610</td>\n",
       "      <td>1741.0</td>\n",
       "      <td>1805</td>\n",
       "      <td>UA</td>\n",
       "      <td>541</td>\n",
       "      <td>...</td>\n",
       "      <td>9.0</td>\n",
       "      <td>18.0</td>\n",
       "      <td>0</td>\n",
       "      <td>NaN</td>\n",
       "      <td>0</td>\n",
       "      <td>0.0</td>\n",
       "      <td>0.0</td>\n",
       "      <td>0.0</td>\n",
       "      <td>0.0</td>\n",
       "      <td>0.0</td>\n",
       "    </tr>\n",
       "    <tr>\n",
       "      <th>3</th>\n",
       "      <td>2005</td>\n",
       "      <td>1</td>\n",
       "      <td>31</td>\n",
       "      <td>1</td>\n",
       "      <td>1556.0</td>\n",
       "      <td>1605</td>\n",
       "      <td>1726.0</td>\n",
       "      <td>1759</td>\n",
       "      <td>UA</td>\n",
       "      <td>541</td>\n",
       "      <td>...</td>\n",
       "      <td>11.0</td>\n",
       "      <td>10.0</td>\n",
       "      <td>0</td>\n",
       "      <td>NaN</td>\n",
       "      <td>0</td>\n",
       "      <td>0.0</td>\n",
       "      <td>0.0</td>\n",
       "      <td>0.0</td>\n",
       "      <td>0.0</td>\n",
       "      <td>0.0</td>\n",
       "    </tr>\n",
       "    <tr>\n",
       "      <th>4</th>\n",
       "      <td>2005</td>\n",
       "      <td>1</td>\n",
       "      <td>2</td>\n",
       "      <td>7</td>\n",
       "      <td>1934.0</td>\n",
       "      <td>1900</td>\n",
       "      <td>2235.0</td>\n",
       "      <td>2232</td>\n",
       "      <td>UA</td>\n",
       "      <td>542</td>\n",
       "      <td>...</td>\n",
       "      <td>5.0</td>\n",
       "      <td>10.0</td>\n",
       "      <td>0</td>\n",
       "      <td>NaN</td>\n",
       "      <td>0</td>\n",
       "      <td>0.0</td>\n",
       "      <td>0.0</td>\n",
       "      <td>0.0</td>\n",
       "      <td>0.0</td>\n",
       "      <td>0.0</td>\n",
       "    </tr>\n",
       "  </tbody>\n",
       "</table>\n",
       "<p>5 rows × 29 columns</p>\n",
       "</div>"
      ],
      "text/plain": [
       "   Year  Month  DayofMonth  DayOfWeek  DepTime  CRSDepTime  ArrTime  \\\n",
       "0  2005      1          28          5   1603.0        1605   1741.0   \n",
       "1  2005      1          29          6   1559.0        1605   1736.0   \n",
       "2  2005      1          30          7   1603.0        1610   1741.0   \n",
       "3  2005      1          31          1   1556.0        1605   1726.0   \n",
       "4  2005      1           2          7   1934.0        1900   2235.0   \n",
       "\n",
       "   CRSArrTime UniqueCarrier  FlightNum  ... TaxiIn  TaxiOut  Cancelled  \\\n",
       "0        1759            UA        541  ...    4.0     23.0          0   \n",
       "1        1759            UA        541  ...    6.0     15.0          0   \n",
       "2        1805            UA        541  ...    9.0     18.0          0   \n",
       "3        1759            UA        541  ...   11.0     10.0          0   \n",
       "4        2232            UA        542  ...    5.0     10.0          0   \n",
       "\n",
       "   CancellationCode  Diverted  CarrierDelay WeatherDelay NASDelay  \\\n",
       "0               NaN         0           0.0          0.0      0.0   \n",
       "1               NaN         0           0.0          0.0      0.0   \n",
       "2               NaN         0           0.0          0.0      0.0   \n",
       "3               NaN         0           0.0          0.0      0.0   \n",
       "4               NaN         0           0.0          0.0      0.0   \n",
       "\n",
       "   SecurityDelay  LateAircraftDelay  \n",
       "0            0.0                0.0  \n",
       "1            0.0                0.0  \n",
       "2            0.0                0.0  \n",
       "3            0.0                0.0  \n",
       "4            0.0                0.0  \n",
       "\n",
       "[5 rows x 29 columns]"
      ]
     },
     "execution_count": 32,
     "metadata": {},
     "output_type": "execute_result"
    }
   ],
   "source": [
    "flight_df.head()"
   ]
  },
  {
   "cell_type": "code",
   "execution_count": 11,
   "id": "d5691880",
   "metadata": {},
   "outputs": [
    {
     "name": "stdout",
     "output_type": "stream",
     "text": [
      "<class 'pandas.core.frame.DataFrame'>\n",
      "Int64Index: 28745461 entries, 0 to 7009727\n",
      "Data columns (total 29 columns):\n",
      " #   Column             Dtype  \n",
      "---  ------             -----  \n",
      " 0   Year               int64  \n",
      " 1   Month              int64  \n",
      " 2   DayofMonth         int64  \n",
      " 3   DayOfWeek          int64  \n",
      " 4   DepTime            float64\n",
      " 5   CRSDepTime         int64  \n",
      " 6   ArrTime            float64\n",
      " 7   CRSArrTime         int64  \n",
      " 8   UniqueCarrier      object \n",
      " 9   FlightNum          int64  \n",
      " 10  TailNum            object \n",
      " 11  ActualElapsedTime  float64\n",
      " 12  CRSElapsedTime     float64\n",
      " 13  AirTime            float64\n",
      " 14  ArrDelay           float64\n",
      " 15  DepDelay           float64\n",
      " 16  Origin             object \n",
      " 17  Dest               object \n",
      " 18  Distance           int64  \n",
      " 19  TaxiIn             float64\n",
      " 20  TaxiOut            float64\n",
      " 21  Cancelled          int64  \n",
      " 22  CancellationCode   object \n",
      " 23  Diverted           int64  \n",
      " 24  CarrierDelay       float64\n",
      " 25  WeatherDelay       float64\n",
      " 26  NASDelay           float64\n",
      " 27  SecurityDelay      float64\n",
      " 28  LateAircraftDelay  float64\n",
      "dtypes: float64(14), int64(10), object(5)\n",
      "memory usage: 6.4+ GB\n"
     ]
    }
   ],
   "source": [
    "flight_df.info()"
   ]
  },
  {
   "cell_type": "markdown",
   "id": "e4f4d554",
   "metadata": {},
   "source": [
    "### What is the structure of your dataset?\n",
    "\n",
    "<p style=\"font-size:18px\">The dataset `flight_df` contains 28745461 recoreds and 29 variables. Most of the variables are numaric, however, some of them their datatypes need to be converted to more aproprate datatypes.</p>\n",
    "\n",
    "### What is/are the main feature(s) of interest in your dataset?\n",
    "<p style=\"font-size:18px\">My primary investigation and analysis will be focusing on figuring out the reasons behind the flight delays and cancelations in favor of measuring the punctuality of each flight and highlighting other flights' characteristics.</p>.\n",
    "\n",
    "### What features in the dataset do you think will help support your investigation into your feature(s) of interest?\n",
    "\n",
    "<p style=\"font-size:18px\">II anticipate that variables associated with the delays in the departing and arriving time will play as good factors when associated with flight carriers and destinations to discover any hidden patterns. Not only this, but I think I can also use the cancellation code to find out the reasons behind the cancellations and link them to certain destinations and carriers.</p>"
   ]
  },
  {
   "cell_type": "markdown",
   "id": "a5296c26",
   "metadata": {},
   "source": [
    "### Cleaning"
   ]
  },
  {
   "cell_type": "markdown",
   "id": "86e2317a",
   "metadata": {},
   "source": [
    "The columns I used so far\n",
    "- CancellationCode\n",
    "- UniqueCarrier"
   ]
  },
  {
   "cell_type": "code",
   "execution_count": null,
   "id": "0b834aeb",
   "metadata": {},
   "outputs": [],
   "source": []
  },
  {
   "cell_type": "markdown",
   "id": "49cf2fe5",
   "metadata": {},
   "source": [
    "<a id='unidata'>   </a>\n",
    "## Part II - Univariate Data Exploration"
   ]
  },
  {
   "cell_type": "markdown",
   "id": "7b1d116b",
   "metadata": {},
   "source": [
    "### What flight carriers have most flight cancellation?"
   ]
  },
  {
   "cell_type": "markdown",
   "id": "94d86b16",
   "metadata": {},
   "source": [
    "<p style=\"font-size:18px\">First, I will limit the dataframe data to include only records with canellation code and store the data in a sub-datafram.\n",
    "Then, I will extract the count of each carrier that happen to appear in the sub-dataframe</p>"
   ]
  },
  {
   "cell_type": "code",
   "execution_count": 100,
   "id": "ddb622fd",
   "metadata": {},
   "outputs": [
    {
     "data": {
      "text/plain": [
       "MQ    77859\n",
       "AA    55243\n",
       "OO    49105\n",
       "WN    40092\n",
       "XE    39861\n",
       "UA    39004\n",
       "DL    38760\n",
       "EV    34630\n",
       "OH    33558\n",
       "YV    30050\n",
       "US    29461\n",
       "NW    22511\n",
       "9E    15039\n",
       "CO    11041\n",
       "AS     9762\n",
       "FL     9227\n",
       "B6     8463\n",
       "Name: UniqueCarrier, dtype: int64"
      ]
     },
     "execution_count": 100,
     "metadata": {},
     "output_type": "execute_result"
    }
   ],
   "source": [
    "sub_df = flight_df[flight_df.CancellationCode.isna()==False]\n",
    "uniq_carr = sub_df.UniqueCarrier.value_counts()\n",
    "uniq_carr = uniq_carr[uniq_carr.values>5000]\n",
    "uniq_carr"
   ]
  },
  {
   "cell_type": "code",
   "execution_count": 101,
   "id": "f4f47ed8",
   "metadata": {},
   "outputs": [
    {
     "data": {
      "image/png": "[encoded data removed]",
      "text/plain": [
       "<Figure size 720x360 with 1 Axes>"
      ]
     },
     "metadata": {
      "needs_background": "light"
     },
     "output_type": "display_data"
    }
   ],
   "source": [
    "color_base = sns.color_palette()[4]\n",
    "plt.figure(figsize=(10,5))\n",
    "sns.countplot(data = sub_df, y = 'UniqueCarrier', order = uniq_carr.index, color = color_base )\n",
    "plt.title('Number of Flight Cancellations Per Carrier (2005-2008)',fontsize=13)\n",
    "plt.ylabel('Flight Carriers',fontsize=10)\n",
    "plt.xlabel('Number of Flight Cancellations',fontsize=10);"
   ]
  },
  {
   "cell_type": "markdown",
   "id": "a4c68c2c",
   "metadata": {},
   "source": [
    "<p style=\"font-size:18px\">As we can notice from the above chart, Envoy Air (MQ) has remarkably the highest number of flight cancellations with more than 77k flight cancellations. Comes next American Airlines with 55k cancelations, more or less. The next one from the top is SkyWest Airlines(OO), with nearly 50k flight cancellations. From the bottom of the chart, the flight carriers with the least cancellations count are JetBlue AIrways (B6), FL, and Alaska flights AS with less than 10k flight cancellations.</p>\n"
   ]
  },
  {
   "cell_type": "markdown",
   "id": "dc9513cd",
   "metadata": {},
   "source": [
    "### What are most prevalent causation of flight cancellations?"
   ]
  },
  {
   "cell_type": "code",
   "execution_count": 103,
   "id": "e5fc2218",
   "metadata": {},
   "outputs": [
    {
     "data": {
      "text/plain": [
       "A    236114\n",
       "B    205958\n",
       "C    111476\n",
       "D       300\n",
       "Name: CancellationCode, dtype: int64"
      ]
     },
     "execution_count": 103,
     "metadata": {},
     "output_type": "execute_result"
    }
   ],
   "source": [
    "Cancel_Code = flight_df.CancellationCode.value_counts()\n",
    "Cancel_Code"
   ]
  },
  {
   "cell_type": "markdown",
   "id": "245e5207",
   "metadata": {},
   "source": [
    "<p style=\"font-size:18px\">The letters in the (flight_df.CancellationCode) means reasons for cancellation (A = carrier, B = weather, C = NAS, D = security)</p>"
   ]
  },
  {
   "cell_type": "code",
   "execution_count": 137,
   "id": "ad3adf41",
   "metadata": {},
   "outputs": [
    {
     "data": {
      "image/png": "[encoded data removed]",
      "text/plain": [
       "<Figure size 720x360 with 1 Axes>"
      ]
     },
     "metadata": {
      "needs_background": "light"
     },
     "output_type": "display_data"
    }
   ],
   "source": [
    "ticks = ['Carrier','Weather','NAS','Secuirty']\n",
    "color_base = sns.color_palette()[4]\n",
    "plt.figure(figsize=(10,5))\n",
    "chart = sns.countplot(data=sub_df, x='CancellationCode', color = color_base, order =Cancel_Code.index );\n",
    "plt.title('The Most Common Source of Cancellations', fontsize=12)\n",
    "plt.xlabel('Cancellation Source')\n",
    "plt.ylabel('Number of Cancellation')\n",
    "chart.set_xticklabels(ticks);"
   ]
  },
  {
   "cell_type": "markdown",
   "id": "4226ab3f",
   "metadata": {},
   "source": [
    "<p style=\"font-size:18px\">The bar chart above tells us that there are mainly three cancellations sources, airline companies, Weather, and NAS. Security has noticeable fewer flight cancellations than the other three.</p>"
   ]
  },
  {
   "cell_type": "markdown",
   "id": "d9a5ee46",
   "metadata": {},
   "source": [
    "### What is the cancellations count of flights per week and days of the week?"
   ]
  },
  {
   "cell_type": "code",
   "execution_count": 290,
   "id": "7dbf39c6",
   "metadata": {},
   "outputs": [
    {
     "data": {
      "image/png": "[encoded data removed]",
      "text/plain": [
       "<Figure size 1440x360 with 2 Axes>"
      ]
     },
     "metadata": {
      "needs_background": "light"
     },
     "output_type": "display_data"
    }
   ],
   "source": [
    "# month_ord = sub_df.Month.value_counts().index\n",
    "# day_of_w_ord = sub_df.DayOfWeek.value_counts().index\n",
    "\n",
    "plt.figure(figsize = [20, 5]) \n",
    "plt.subplot(1, 2, 1) \n",
    "M_ticks = ['Ded','Jan','Feb', 'Mar','Jul','Jun','Aug', 'Sep','Apr','Oct','May','Nov']\n",
    "chart_1 = sns.countplot(data = sub_df, x = 'Month', color = color_base\n",
    "              , order = month_ord)\n",
    "chart_1.set_xticklabels(M_ticks)\n",
    "plt.title('Flight Cancellation per Month', fontsize =13)\n",
    "plt.ylabel('Count of Cancellations')\n",
    "plt.subplot(1, 2, 2)\n",
    "D_ticks = ['Friday', 'Wednesday', 'Tuesday','Thursday','Monday','Sunday','Saturday']\n",
    "Chart_2 = sns.countplot(data = sub_df, x = 'DayOfWeek', color = color_base,order = day_of_w_ord)\n",
    "Chart_2.set_xticklabels(D_ticks)\n",
    "plt.title('Flight Cancellations Per the Day of Week', fontsize =13)\n",
    "plt.ylabel('Count of Cancellations')\n",
    "plt.xlabel('Day of week');\n"
   ]
  },
  {
   "cell_type": "markdown",
   "id": "fa237c0d",
   "metadata": {},
   "source": [
    "<p style=\"font-size:18px\">We can obviously see that December, January, and February have the highest flight cancellations numbers. That can lead us to do further analysis to discover the reason behind the cancellation that happened in those months when linking them to the source of cancellations.</p>"
   ]
  },
  {
   "cell_type": "markdown",
   "id": "7c5db93a",
   "metadata": {},
   "source": [
    "### What are the top 10 cities with the most flight cancellations count?"
   ]
  },
  {
   "cell_type": "code",
   "execution_count": 194,
   "id": "be9528fc",
   "metadata": {},
   "outputs": [
    {
     "data": {
      "image/png": "[encoded data removed]",
      "text/plain": [
       "<Figure size 720x720 with 2 Axes>"
      ]
     },
     "metadata": {
      "needs_background": "light"
     },
     "output_type": "display_data"
    }
   ],
   "source": [
    "dest = sub_df.Dest.value_counts().head(10)\n",
    "dep_city = sub_df.Origin.value_counts().head(10)\n",
    "# plt.hist(data = flight_df , x = 'ArrTime', bins = 30);\n",
    "plt.figure(figsize = [10, 10]) \n",
    "\n",
    "plt.subplot(2, 1, 1) \n",
    "plt.bar(x = dep_city.index, height = dep_city.values,color = color_base);\n",
    "plt.title('Departure Cities', fontsize =13)\n",
    "plt.ylabel('Count of Cancellations')\n",
    "plt.xlabel('Cities')\n",
    "\n",
    "plt.subplot(2, 1, 2) \n",
    "plt.bar(x = dest.index, height = dest.values, color = color_base);\n",
    "\n",
    "plt.title('Arrival Cities', fontsize =13)\n",
    "plt.xlabel('Cities')\n",
    "plt.ylabel('Count of Cancellations');\n",
    "\n"
   ]
  },
  {
   "cell_type": "markdown",
   "id": "d599c98c",
   "metadata": {},
   "source": [
    "<p style=\"font-size:18px\">It looks like we have repeated patterns from the above charts. We have eight cities that appeared in both bar charts where flight cancellations happened. Orlando, Atlanta, Dallas/Fort Worth, LaGuardia, Newark Liberty, Boston Logan, and Denver airports are the trending cities' airports in terms of flight cancellations. </p>"
   ]
  },
  {
   "cell_type": "code",
   "execution_count": 200,
   "id": "fc525e16",
   "metadata": {},
   "outputs": [
    {
     "name": "stdout",
     "output_type": "stream",
     "text": [
      "28191613\n",
      "553848\n"
     ]
    }
   ],
   "source": [
    "print(flight_df.CancellationCode.isna().sum())\n",
    "print(flight_df[flight_df.CancellationCode.isna()==False].CancellationCode.count())"
   ]
  },
  {
   "cell_type": "code",
   "execution_count": 292,
   "id": "29178f36",
   "metadata": {},
   "outputs": [
    {
     "data": {
      "text/plain": [
       "0.019645842896609002"
      ]
     },
     "execution_count": 292,
     "metadata": {},
     "output_type": "execute_result"
    }
   ],
   "source": [
    "553848/28191613"
   ]
  },
  {
   "cell_type": "markdown",
   "id": "0f05930b",
   "metadata": {},
   "source": [
    "<p style=\"font-size:18px\">The cancellation rate was about 2%</p>"
   ]
  },
  {
   "cell_type": "markdown",
   "id": "1bd3e3a8",
   "metadata": {},
   "source": [
    "### How do the distributions of departure and arrival delays look like?"
   ]
  },
  {
   "cell_type": "code",
   "execution_count": 264,
   "id": "0cb6d5aa",
   "metadata": {},
   "outputs": [],
   "source": [
    "dep_delay =  flight_df[flight_df.DepDelay.isna()==False].DepDelay\n",
    "arr_delay = flight_df[flight_df.ArrDelay.isna()==False].ArrDelay"
   ]
  },
  {
   "cell_type": "code",
   "execution_count": 289,
   "id": "3738cbd7",
   "metadata": {},
   "outputs": [
    {
     "data": {
      "image/png": "[encoded data removed]",
      "text/plain": [
       "<Figure size 720x720 with 2 Axes>"
      ]
     },
     "metadata": {
      "needs_background": "light"
     },
     "output_type": "display_data"
    }
   ],
   "source": [
    "plt.figure(figsize = [10, 10]) \n",
    "\n",
    "# plot the first histogram\n",
    "\n",
    "plt.subplot(2, 1, 1) \n",
    "bins = np.arange(-20, 200,5.5)\n",
    "plt.hist(dep_delay,bins=bins,color = color_base);\n",
    "plt.ticklabel_format(style='plain')\n",
    "plt.xlim(-50,200);\n",
    "plt.title('A Histogram Showing the Distribution of Departure Delay (2005-2008)',fontsize = 13)\n",
    "plt.xlabel('Departure Delay in Minutes')\n",
    "plt.ylabel('Count of Delays')\n",
    "\n",
    "# plot the second histogram\n",
    "plt.subplot(2, 1, 2) \n",
    "bins = np.arange(-20, 250,6)\n",
    "plt.hist(arr_delay,bins=bins, color = color_base);\n",
    "plt.ticklabel_format(style='plain')\n",
    "plt.xlim(-50,250);\n",
    "plt.title('A Histogram Showing the Distribution of Arrival Delay (2005-2008)',fontsize = 13)\n",
    "plt.xlabel('Arrival Delay in Minutes')\n",
    "plt.ylabel('Count of Delays');\n",
    "\n"
   ]
  },
  {
   "cell_type": "markdown",
   "id": "86831f5e",
   "metadata": {},
   "source": [
    "<p style=\"font-size:18px\">It's noticeable from the two charts that the distributions of both departure and arrival delays data are skewed to the right. Also, we can see that the most delay periods in both departure and arrival ranged from 0 to less than 50 minutes.</p>"
   ]
  },
  {
   "cell_type": "markdown",
   "id": "ba42e89f",
   "metadata": {},
   "source": [
    "### Conclusion of Univariate Data Exploration\n",
    "\n",
    "<p style=\"font-size:18px\">The first step in the univariate data exploration journey was looking through the airline companies to discover which airlines companies have the highest flight cancellation numbers in the dataset and found out that Envoy Air (MQ) airline sets at the top of the airline companies with more than 77859 flight cancellations.</p> \n",
    "\n",
    "<p style=\"font-size:18px\">Second, I have also explored the main sources of flight cancellations in the datasets, and I have found out that there were four primary cancellations' sources. The first source was \"carrier\", the airline company, and it's the number one source of cancellations. The second and the third sources were \"weather\" and the \"NSA\". The last source was \"Security\", which was way less common than the others.</p>\n",
    "\n",
    "<p style=\"font-size:18px\">After that, I went deeper into the data to see which times of the year had the highest numbers of flight cancellations and when they happened more during the week. I found out the winter months have the highest number of flight cancellations. Those months were December, January, and February. Yet, I am not sure 100% that winter has anything to do with the cancellations, but it needs more and deeper analysis to discover if there are any relations between the time of the year and flight cancellations. I have also explored which days of the week have the most flight cancellations and found that there was not much difference between the days in terms of flight cancellation. However, the charts plotted above showed that Friday had the most cancellations instances and Saturday had the least number of flight cancellations.</p>\n",
    "\n",
    "<p style=\"font-size:18px\">Next, I continued to discover information about flight cancellations by looking at which cities had the highest counts of flight cancellations. I explored that Orlando, Atlanta, and Dallas appeared at the top of the list of departure cities as well as the list of destinations when cancellations happened.</p>\n",
    "\n",
    "<p style=\"font-size:18px\">Finally, to explore some information about flight delays, I had to create a sub-dataframe containing only records with delays. I made two sub-dataframes from the original dataframe, one for delay occurred in the departure and one for the arrival delay. I then created two histograms to plot the distribution of the time of delays and found that the most delay periods in both departure and arrival ranged from 0 to less than 50 minutes. </p>"
   ]
  },
  {
   "cell_type": "markdown",
   "id": "c5769f40",
   "metadata": {},
   "source": [
    "<a id='bivData'>   </a>\n",
    "## Part III - Bivariate Data Exploration"
   ]
  },
  {
   "cell_type": "markdown",
   "id": "11981204",
   "metadata": {},
   "source": [
    "<a id='multivData'>   </a>\n",
    "## Part IV - Multivariate Data Exploration"
   ]
  }
 ],
 "metadata": {
  "hide_input": false,
  "kernelspec": {
   "display_name": "Python 3",
   "language": "python",
   "name": "python3"
  },
  "language_info": {
   "codemirror_mode": {
    "name": "ipython",
    "version": 3
   },
   "file_extension": ".py",
   "mimetype": "text/x-python",
   "name": "python",
   "nbconvert_exporter": "python",
   "pygments_lexer": "ipython3",
   "version": "3.8.8"
  }
 },
 "nbformat": 4,
 "nbformat_minor": 5
}
